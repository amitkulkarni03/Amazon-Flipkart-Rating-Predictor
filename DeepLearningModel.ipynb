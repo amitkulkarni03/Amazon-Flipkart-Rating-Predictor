{
 "cells": [
  {
   "cell_type": "markdown",
   "id": "00bd1978",
   "metadata": {},
   "source": [
    "## Necessary libraries imported"
   ]
  },
  {
   "cell_type": "code",
   "execution_count": 23,
   "id": "89236e9a",
   "metadata": {},
   "outputs": [],
   "source": [
    "from sklearn.preprocessing import LabelBinarizer, LabelEncoder\n",
    "from tensorflow import keras\n",
    "from keras.models import Sequential\n",
    "from keras.layers import Dense, Activation, Dropout\n",
    "from keras.preprocessing import text, sequence\n",
    "from keras import utils\n",
    "import numpy as np"
   ]
  },
  {
   "cell_type": "markdown",
   "id": "6e3e31b2",
   "metadata": {},
   "source": [
    "### import processed data from RatingPredictor file"
   ]
  },
  {
   "cell_type": "code",
   "execution_count": 6,
   "id": "52969cbd",
   "metadata": {},
   "outputs": [],
   "source": [
    "import import_ipynb\n",
    "import RatingPredictor"
   ]
  },
  {
   "cell_type": "code",
   "execution_count": 15,
   "id": "47ba5bc0",
   "metadata": {},
   "outputs": [],
   "source": [
    "%store -r ds_train"
   ]
  },
  {
   "cell_type": "code",
   "execution_count": 16,
   "id": "e162196a",
   "metadata": {},
   "outputs": [
    {
     "data": {
      "text/html": [
       "<div>\n",
       "<style scoped>\n",
       "    .dataframe tbody tr th:only-of-type {\n",
       "        vertical-align: middle;\n",
       "    }\n",
       "\n",
       "    .dataframe tbody tr th {\n",
       "        vertical-align: top;\n",
       "    }\n",
       "\n",
       "    .dataframe thead th {\n",
       "        text-align: right;\n",
       "    }\n",
       "</style>\n",
       "<table border=\"1\" class=\"dataframe\">\n",
       "  <thead>\n",
       "    <tr style=\"text-align: right;\">\n",
       "      <th></th>\n",
       "      <th>star</th>\n",
       "      <th>reviews</th>\n",
       "    </tr>\n",
       "  </thead>\n",
       "  <tbody>\n",
       "    <tr>\n",
       "      <th>0</th>\n",
       "      <td>4</td>\n",
       "      <td>good performance in this range read more</td>\n",
       "    </tr>\n",
       "    <tr>\n",
       "      <th>1</th>\n",
       "      <td>4</td>\n",
       "      <td>nice read more</td>\n",
       "    </tr>\n",
       "    <tr>\n",
       "      <th>2</th>\n",
       "      <td>4</td>\n",
       "      <td>system is ok but battery back up is less than...</td>\n",
       "    </tr>\n",
       "    <tr>\n",
       "      <th>3</th>\n",
       "      <td>4</td>\n",
       "      <td>nice look read more</td>\n",
       "    </tr>\n",
       "    <tr>\n",
       "      <th>4</th>\n",
       "      <td>4</td>\n",
       "      <td>good read more</td>\n",
       "    </tr>\n",
       "  </tbody>\n",
       "</table>\n",
       "</div>"
      ],
      "text/plain": [
       "   star                                            reviews\n",
       "0     4           good performance in this range read more\n",
       "1     4                                     nice read more\n",
       "2     4   system is ok but battery back up is less than...\n",
       "3     4                                nice look read more\n",
       "4     4                                     good read more"
      ]
     },
     "execution_count": 16,
     "metadata": {},
     "output_type": "execute_result"
    }
   ],
   "source": [
    "ds_train.head()"
   ]
  },
  {
   "cell_type": "markdown",
   "id": "8c249a97",
   "metadata": {},
   "source": [
    "## Process and split data into train set and test set"
   ]
  },
  {
   "cell_type": "code",
   "execution_count": 17,
   "id": "3c967c94",
   "metadata": {},
   "outputs": [
    {
     "name": "stdout",
     "output_type": "stream",
     "text": [
      "Train size: 2941\n",
      "Test size: 1261\n"
     ]
    }
   ],
   "source": [
    "train_size = int(len(ds_train) * .7)\n",
    "print (\"Train size: %d\" % train_size)\n",
    "print (\"Test size: %d\" % (len(ds_train) - train_size))"
   ]
  },
  {
   "cell_type": "code",
   "execution_count": 18,
   "id": "d592445b",
   "metadata": {},
   "outputs": [],
   "source": [
    "train_reviews = ds_train['reviews'][:train_size]\n",
    "train_stars = ds_train['star'][:train_size]\n",
    "\n",
    "test_reviews = ds_train['reviews'][train_size:]\n",
    "test_stars = ds_train['star'][train_size:]"
   ]
  },
  {
   "cell_type": "code",
   "execution_count": 19,
   "id": "486629bd",
   "metadata": {},
   "outputs": [],
   "source": [
    "max_words = 1000\n",
    "tokenize = text.Tokenizer(num_words=max_words, char_level=False)"
   ]
  },
  {
   "cell_type": "code",
   "execution_count": 20,
   "id": "1ce772c7",
   "metadata": {},
   "outputs": [],
   "source": [
    "# only fit on train\n",
    "tokenize.fit_on_texts(train_reviews)\n",
    "\n",
    "x_train = tokenize.texts_to_matrix(train_reviews)\n",
    "x_test = tokenize.texts_to_matrix(test_reviews)"
   ]
  },
  {
   "cell_type": "markdown",
   "id": "3e652c62",
   "metadata": {},
   "source": [
    "### Label Encoding"
   ]
  },
  {
   "cell_type": "code",
   "execution_count": 21,
   "id": "6162a81b",
   "metadata": {},
   "outputs": [],
   "source": [
    "encoder = LabelEncoder()\n",
    "encoder.fit(train_stars)\n",
    "y_train = encoder.transform(train_stars)\n",
    "y_test = encoder.transform(test_stars)"
   ]
  },
  {
   "cell_type": "code",
   "execution_count": 24,
   "id": "b02f31af",
   "metadata": {},
   "outputs": [],
   "source": [
    "num_classes = np.max(y_train) + 1\n",
    "y_train = utils.to_categorical(y_train, num_classes)\n",
    "y_test = utils.to_categorical(y_test, num_classes)"
   ]
  },
  {
   "cell_type": "code",
   "execution_count": 25,
   "id": "0b07f039",
   "metadata": {},
   "outputs": [
    {
     "name": "stdout",
     "output_type": "stream",
     "text": [
      "x_train shape: (2941, 1000)\n",
      "x_test shape: (1261, 1000)\n",
      "y_train shape: (2941, 5)\n",
      "y_test shape: (1261, 5)\n"
     ]
    }
   ],
   "source": [
    "print('x_train shape:', x_train.shape)\n",
    "print('x_test shape:', x_test.shape)\n",
    "print('y_train shape:', y_train.shape)\n",
    "print('y_test shape:', y_test.shape)"
   ]
  },
  {
   "cell_type": "markdown",
   "id": "ddbd1085",
   "metadata": {},
   "source": [
    "## Create model"
   ]
  },
  {
   "cell_type": "code",
   "execution_count": 26,
   "id": "1825a4f3",
   "metadata": {},
   "outputs": [],
   "source": [
    "# Build the model\n",
    "model = Sequential()\n",
    "model.add(Dense(512, input_shape=(max_words,)))\n",
    "model.add(Activation('relu'))\n",
    "model.add(Dropout(0.5))\n",
    "model.add(Dense(num_classes))\n",
    "model.add(Activation('softmax'))\n",
    "\n",
    "model.compile(loss='categorical_crossentropy',\n",
    "              optimizer='adam',\n",
    "              metrics=['accuracy'])"
   ]
  },
  {
   "cell_type": "markdown",
   "id": "f743a0a5",
   "metadata": {},
   "source": [
    "### Validation phase"
   ]
  },
  {
   "cell_type": "code",
   "execution_count": 27,
   "id": "590aa772",
   "metadata": {},
   "outputs": [
    {
     "name": "stdout",
     "output_type": "stream",
     "text": [
      "Epoch 1/5\n",
      "83/83 [==============================] - 2s 11ms/step - loss: 0.6046 - accuracy: 0.7895 - val_loss: 1.1631 - val_accuracy: 0.5661\n",
      "Epoch 2/5\n",
      "83/83 [==============================] - 1s 8ms/step - loss: 0.1976 - accuracy: 0.9376 - val_loss: 1.4032 - val_accuracy: 0.6339\n",
      "Epoch 3/5\n",
      "83/83 [==============================] - 1s 7ms/step - loss: 0.1056 - accuracy: 0.9758 - val_loss: 1.9178 - val_accuracy: 0.6373\n",
      "Epoch 4/5\n",
      "83/83 [==============================] - 1s 8ms/step - loss: 0.0685 - accuracy: 0.9841 - val_loss: 2.1576 - val_accuracy: 0.6339\n",
      "Epoch 5/5\n",
      "83/83 [==============================] - 1s 8ms/step - loss: 0.0514 - accuracy: 0.9875 - val_loss: 2.4473 - val_accuracy: 0.6339\n"
     ]
    }
   ],
   "source": [
    "history = model.fit(x_train, y_train,\n",
    "                    batch_size=32,\n",
    "                    epochs=5,\n",
    "                    verbose=1,\n",
    "                    validation_split=0.1)"
   ]
  },
  {
   "cell_type": "markdown",
   "id": "f457fb83",
   "metadata": {},
   "source": [
    "### Test Data"
   ]
  },
  {
   "cell_type": "code",
   "execution_count": 28,
   "id": "74e15a15",
   "metadata": {},
   "outputs": [
    {
     "name": "stdout",
     "output_type": "stream",
     "text": [
      "40/40 [==============================] - 0s 2ms/step - loss: 3.8834 - accuracy: 0.2791\n",
      "Test accuracy: 0.2791435420513153\n"
     ]
    }
   ],
   "source": [
    "score = model.evaluate(x_test, y_test,\n",
    "                       batch_size=32, verbose=1)\n",
    "print('Test accuracy:', score[1])"
   ]
  },
  {
   "cell_type": "markdown",
   "id": "fdf9f796",
   "metadata": {},
   "source": [
    "## Observations from the scores"
   ]
  },
  {
   "cell_type": "markdown",
   "id": "0f928ff6",
   "metadata": {},
   "source": [
    "1. The Deep Learning model gives a validation accuracy of 0.78 which is lower than the accuracy observed in the Machine Learning models.\n",
    "2. Further ,it is observed that the model does not perform well on test data suggesting probable underfitting."
   ]
  }
 ],
 "metadata": {
  "kernelspec": {
   "display_name": "Python 3 (ipykernel)",
   "language": "python",
   "name": "python3"
  },
  "language_info": {
   "codemirror_mode": {
    "name": "ipython",
    "version": 3
   },
   "file_extension": ".py",
   "mimetype": "text/x-python",
   "name": "python",
   "nbconvert_exporter": "python",
   "pygments_lexer": "ipython3",
   "version": "3.11.3"
  }
 },
 "nbformat": 4,
 "nbformat_minor": 5
}
