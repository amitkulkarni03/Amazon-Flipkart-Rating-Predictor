{
 "cells": [
  {
   "cell_type": "markdown",
   "id": "08079afe",
   "metadata": {},
   "source": [
    "# Ratings Prediction using NLP\n",
    "\n",
    "The notebook proposes NLP for analysis of the data extracted and ML and DL approches for predictions. \n",
    "Analysis include frequetly occuring words and sentiment analysis algorithms tested in ML are -:\n",
    "\n",
    "1. Decision tree classifier\n",
    "2. Random forest classifier\n",
    "3. swicthed vector classification\n",
    "\n",
    "Further a Deep Learning model is trained for 2 epoch with a batch size of 32."
   ]
  },
  {
   "cell_type": "markdown",
   "id": "4158ba2a",
   "metadata": {},
   "source": [
    "## Necessary libraries imported"
   ]
  },
  {
   "cell_type": "code",
   "execution_count": 243,
   "id": "c08c3000",
   "metadata": {},
   "outputs": [],
   "source": [
    "#importing necesary libraries\n",
    "import pandas as pd\n",
    "import numpy as np\n",
    "import matplotlib.pyplot as plt\n",
    "import seaborn as sns\n",
    "import string\n",
    "from collections import Counter\n",
    "from nltk.corpus import stopwords\n",
    "from nltk.sentiment.vader import SentimentIntensityAnalyzer\n",
    "from nltk.stem import WordNetLemmatizer\n",
    "from nltk.tokenize import word_tokenize\n",
    "import warnings \n",
    "from wordcloud import WordCloud\n",
    "warnings.filterwarnings('ignore')\n",
    "from sklearn.feature_extraction.text import TfidfVectorizer\n",
    "from sklearn.model_selection import train_test_split\n",
    "from sklearn.tree import DecisionTreeClassifier\n",
    "from sklearn.ensemble import RandomForestClassifier\n",
    "from sklearn import svm\n",
    "from sklearn.metrics import accuracy_score,confusion_matrix,classification_report\n",
    "from sklearn.preprocessing import LabelBinarizer, LabelEncoder"
   ]
  },
  {
   "cell_type": "markdown",
   "id": "7298698e",
   "metadata": {},
   "source": [
    "## Importing CSV files"
   ]
  },
  {
   "cell_type": "code",
   "execution_count": 221,
   "id": "a9d07e6d",
   "metadata": {},
   "outputs": [],
   "source": [
    "#importing reviews scraped from amazon\n",
    "amazon_reviews=pd.read_csv('Amazon-Reviews.csv')"
   ]
  },
  {
   "cell_type": "code",
   "execution_count": 222,
   "id": "698c7c72",
   "metadata": {},
   "outputs": [
    {
     "data": {
      "text/html": [
       "<div>\n",
       "<style scoped>\n",
       "    .dataframe tbody tr th:only-of-type {\n",
       "        vertical-align: middle;\n",
       "    }\n",
       "\n",
       "    .dataframe tbody tr th {\n",
       "        vertical-align: top;\n",
       "    }\n",
       "\n",
       "    .dataframe thead th {\n",
       "        text-align: right;\n",
       "    }\n",
       "</style>\n",
       "<table border=\"1\" class=\"dataframe\">\n",
       "  <thead>\n",
       "    <tr style=\"text-align: right;\">\n",
       "      <th></th>\n",
       "      <th>Unnamed: 0</th>\n",
       "      <th>star</th>\n",
       "      <th>reviews</th>\n",
       "    </tr>\n",
       "  </thead>\n",
       "  <tbody>\n",
       "    <tr>\n",
       "      <th>0</th>\n",
       "      <td>0</td>\n",
       "      <td>4.0 out of 5 stars</td>\n",
       "      <td>\\n\\n\\n\\n\\n\\n\\n\\n  \\n  \\n    Good performance i...</td>\n",
       "    </tr>\n",
       "    <tr>\n",
       "      <th>1</th>\n",
       "      <td>1</td>\n",
       "      <td>4.0 out of 5 stars</td>\n",
       "      <td>\\n\\n\\n\\n\\n\\n\\n\\n  \\n  \\n    Nice\\n  \\nRead more</td>\n",
       "    </tr>\n",
       "    <tr>\n",
       "      <th>2</th>\n",
       "      <td>2</td>\n",
       "      <td>4.0 out of 5 stars</td>\n",
       "      <td>\\n\\n\\n\\n\\n\\n\\n\\n  \\n  \\n    System is ok but b...</td>\n",
       "    </tr>\n",
       "    <tr>\n",
       "      <th>3</th>\n",
       "      <td>3</td>\n",
       "      <td>4.0 out of 5 stars</td>\n",
       "      <td>\\n\\n\\n\\n\\n\\n\\n\\n  \\n  \\n    Nice look\\n  \\nRea...</td>\n",
       "    </tr>\n",
       "    <tr>\n",
       "      <th>4</th>\n",
       "      <td>4</td>\n",
       "      <td>4.0 out of 5 stars</td>\n",
       "      <td>\\n\\n\\n\\n\\n\\n\\n\\n  \\n  \\n    Good\\n  \\nRead more</td>\n",
       "    </tr>\n",
       "  </tbody>\n",
       "</table>\n",
       "</div>"
      ],
      "text/plain": [
       "   Unnamed: 0                star  \\\n",
       "0           0  4.0 out of 5 stars   \n",
       "1           1  4.0 out of 5 stars   \n",
       "2           2  4.0 out of 5 stars   \n",
       "3           3  4.0 out of 5 stars   \n",
       "4           4  4.0 out of 5 stars   \n",
       "\n",
       "                                             reviews  \n",
       "0  \\n\\n\\n\\n\\n\\n\\n\\n  \\n  \\n    Good performance i...  \n",
       "1    \\n\\n\\n\\n\\n\\n\\n\\n  \\n  \\n    Nice\\n  \\nRead more  \n",
       "2  \\n\\n\\n\\n\\n\\n\\n\\n  \\n  \\n    System is ok but b...  \n",
       "3  \\n\\n\\n\\n\\n\\n\\n\\n  \\n  \\n    Nice look\\n  \\nRea...  \n",
       "4    \\n\\n\\n\\n\\n\\n\\n\\n  \\n  \\n    Good\\n  \\nRead more  "
      ]
     },
     "execution_count": 222,
     "metadata": {},
     "output_type": "execute_result"
    }
   ],
   "source": [
    "amazon_reviews.head()"
   ]
  },
  {
   "cell_type": "code",
   "execution_count": 223,
   "id": "ae49277b",
   "metadata": {},
   "outputs": [],
   "source": [
    "#importing flipkart reviews\n",
    "flipkartReviews=pd.read_csv('Flipkart-Reviews.csv')"
   ]
  },
  {
   "cell_type": "code",
   "execution_count": 224,
   "id": "1a057532",
   "metadata": {},
   "outputs": [
    {
     "data": {
      "text/html": [
       "<div>\n",
       "<style scoped>\n",
       "    .dataframe tbody tr th:only-of-type {\n",
       "        vertical-align: middle;\n",
       "    }\n",
       "\n",
       "    .dataframe tbody tr th {\n",
       "        vertical-align: top;\n",
       "    }\n",
       "\n",
       "    .dataframe thead th {\n",
       "        text-align: right;\n",
       "    }\n",
       "</style>\n",
       "<table border=\"1\" class=\"dataframe\">\n",
       "  <thead>\n",
       "    <tr style=\"text-align: right;\">\n",
       "      <th></th>\n",
       "      <th>Unnamed: 0</th>\n",
       "      <th>star</th>\n",
       "      <th>reviews</th>\n",
       "    </tr>\n",
       "  </thead>\n",
       "  <tbody>\n",
       "    <tr>\n",
       "      <th>0</th>\n",
       "      <td>0</td>\n",
       "      <td>5</td>\n",
       "      <td>Hp laptop is the Best one 👍💞😍\\nI am so Happy f...</td>\n",
       "    </tr>\n",
       "    <tr>\n",
       "      <th>1</th>\n",
       "      <td>1</td>\n",
       "      <td>5</td>\n",
       "      <td>Just awesome laptop... Everything is just perf...</td>\n",
       "    </tr>\n",
       "    <tr>\n",
       "      <th>2</th>\n",
       "      <td>2</td>\n",
       "      <td>5</td>\n",
       "      <td>Great laptop\\nmust buy\\nPerfect for multimedia...</td>\n",
       "    </tr>\n",
       "    <tr>\n",
       "      <th>3</th>\n",
       "      <td>3</td>\n",
       "      <td>4</td>\n",
       "      <td>Design looks very good\\nPerformance is ok it's...</td>\n",
       "    </tr>\n",
       "    <tr>\n",
       "      <th>4</th>\n",
       "      <td>4</td>\n",
       "      <td>5</td>\n",
       "      <td>Excellent performance. I got it within 34 k on...</td>\n",
       "    </tr>\n",
       "  </tbody>\n",
       "</table>\n",
       "</div>"
      ],
      "text/plain": [
       "   Unnamed: 0  star                                            reviews\n",
       "0           0     5  Hp laptop is the Best one 👍💞😍\\nI am so Happy f...\n",
       "1           1     5  Just awesome laptop... Everything is just perf...\n",
       "2           2     5  Great laptop\\nmust buy\\nPerfect for multimedia...\n",
       "3           3     4  Design looks very good\\nPerformance is ok it's...\n",
       "4           4     5  Excellent performance. I got it within 34 k on..."
      ]
     },
     "execution_count": 224,
     "metadata": {},
     "output_type": "execute_result"
    }
   ],
   "source": [
    "flipkartReviews.head()"
   ]
  },
  {
   "cell_type": "markdown",
   "id": "8b5b7247",
   "metadata": {},
   "source": [
    "## Clean the data"
   ]
  },
  {
   "cell_type": "markdown",
   "id": "a347a5eb",
   "metadata": {},
   "source": [
    "### for amazon, clean whitespaces and slice unnecessary columns and data  "
   ]
  },
  {
   "cell_type": "code",
   "execution_count": 225,
   "id": "98d90d1f",
   "metadata": {
    "scrolled": true
   },
   "outputs": [
    {
     "data": {
      "text/html": [
       "<div>\n",
       "<style scoped>\n",
       "    .dataframe tbody tr th:only-of-type {\n",
       "        vertical-align: middle;\n",
       "    }\n",
       "\n",
       "    .dataframe tbody tr th {\n",
       "        vertical-align: top;\n",
       "    }\n",
       "\n",
       "    .dataframe thead th {\n",
       "        text-align: right;\n",
       "    }\n",
       "</style>\n",
       "<table border=\"1\" class=\"dataframe\">\n",
       "  <thead>\n",
       "    <tr style=\"text-align: right;\">\n",
       "      <th></th>\n",
       "      <th>Unnamed: 0</th>\n",
       "      <th>star</th>\n",
       "      <th>reviews</th>\n",
       "    </tr>\n",
       "  </thead>\n",
       "  <tbody>\n",
       "    <tr>\n",
       "      <th>0</th>\n",
       "      <td>0</td>\n",
       "      <td>4.0 out of 5 stars</td>\n",
       "      <td>\\n\\n\\n\\n\\n\\n\\n\\n  \\n  \\n    Good performance i...</td>\n",
       "    </tr>\n",
       "    <tr>\n",
       "      <th>1</th>\n",
       "      <td>1</td>\n",
       "      <td>4.0 out of 5 stars</td>\n",
       "      <td>\\n\\n\\n\\n\\n\\n\\n\\n  \\n  \\n    Nice\\n  \\nRead more</td>\n",
       "    </tr>\n",
       "    <tr>\n",
       "      <th>2</th>\n",
       "      <td>2</td>\n",
       "      <td>4.0 out of 5 stars</td>\n",
       "      <td>\\n\\n\\n\\n\\n\\n\\n\\n  \\n  \\n    System is ok but b...</td>\n",
       "    </tr>\n",
       "    <tr>\n",
       "      <th>3</th>\n",
       "      <td>3</td>\n",
       "      <td>4.0 out of 5 stars</td>\n",
       "      <td>\\n\\n\\n\\n\\n\\n\\n\\n  \\n  \\n    Nice look\\n  \\nRea...</td>\n",
       "    </tr>\n",
       "    <tr>\n",
       "      <th>4</th>\n",
       "      <td>4</td>\n",
       "      <td>4.0 out of 5 stars</td>\n",
       "      <td>\\n\\n\\n\\n\\n\\n\\n\\n  \\n  \\n    Good\\n  \\nRead more</td>\n",
       "    </tr>\n",
       "  </tbody>\n",
       "</table>\n",
       "</div>"
      ],
      "text/plain": [
       "   Unnamed: 0                star  \\\n",
       "0           0  4.0 out of 5 stars   \n",
       "1           1  4.0 out of 5 stars   \n",
       "2           2  4.0 out of 5 stars   \n",
       "3           3  4.0 out of 5 stars   \n",
       "4           4  4.0 out of 5 stars   \n",
       "\n",
       "                                             reviews  \n",
       "0  \\n\\n\\n\\n\\n\\n\\n\\n  \\n  \\n    Good performance i...  \n",
       "1    \\n\\n\\n\\n\\n\\n\\n\\n  \\n  \\n    Nice\\n  \\nRead more  \n",
       "2  \\n\\n\\n\\n\\n\\n\\n\\n  \\n  \\n    System is ok but b...  \n",
       "3  \\n\\n\\n\\n\\n\\n\\n\\n  \\n  \\n    Nice look\\n  \\nRea...  \n",
       "4    \\n\\n\\n\\n\\n\\n\\n\\n  \\n  \\n    Good\\n  \\nRead more  "
      ]
     },
     "execution_count": 225,
     "metadata": {},
     "output_type": "execute_result"
    }
   ],
   "source": [
    "amazon_reviews.head()"
   ]
  },
  {
   "cell_type": "code",
   "execution_count": 226,
   "id": "8231fbfd",
   "metadata": {},
   "outputs": [],
   "source": [
    "#cleaning whitespaces, slicing columns to keep only necessary data from star series\n",
    "amazon_reviews = amazon_reviews.replace('\\n','', regex=True)\n",
    "amazon_reviews['star']=amazon_reviews['star'].str.slice(0,1)\n",
    "amazon_reviews.drop('Unnamed: 0',axis=1,inplace=True)"
   ]
  },
  {
   "cell_type": "code",
   "execution_count": 227,
   "id": "0f84f0c1",
   "metadata": {},
   "outputs": [
    {
     "data": {
      "text/html": [
       "<div>\n",
       "<style scoped>\n",
       "    .dataframe tbody tr th:only-of-type {\n",
       "        vertical-align: middle;\n",
       "    }\n",
       "\n",
       "    .dataframe tbody tr th {\n",
       "        vertical-align: top;\n",
       "    }\n",
       "\n",
       "    .dataframe thead th {\n",
       "        text-align: right;\n",
       "    }\n",
       "</style>\n",
       "<table border=\"1\" class=\"dataframe\">\n",
       "  <thead>\n",
       "    <tr style=\"text-align: right;\">\n",
       "      <th></th>\n",
       "      <th>star</th>\n",
       "      <th>reviews</th>\n",
       "    </tr>\n",
       "  </thead>\n",
       "  <tbody>\n",
       "    <tr>\n",
       "      <th>0</th>\n",
       "      <td>4</td>\n",
       "      <td>Good performance in this range.  Read ...</td>\n",
       "    </tr>\n",
       "    <tr>\n",
       "      <th>1</th>\n",
       "      <td>4</td>\n",
       "      <td>Nice  Read more</td>\n",
       "    </tr>\n",
       "    <tr>\n",
       "      <th>2</th>\n",
       "      <td>4</td>\n",
       "      <td>System is ok but battery back up is le...</td>\n",
       "    </tr>\n",
       "    <tr>\n",
       "      <th>3</th>\n",
       "      <td>4</td>\n",
       "      <td>Nice look  Read more</td>\n",
       "    </tr>\n",
       "    <tr>\n",
       "      <th>4</th>\n",
       "      <td>4</td>\n",
       "      <td>Good  Read more</td>\n",
       "    </tr>\n",
       "  </tbody>\n",
       "</table>\n",
       "</div>"
      ],
      "text/plain": [
       "  star                                            reviews\n",
       "0    4          Good performance in this range.  Read ...\n",
       "1    4                                    Nice  Read more\n",
       "2    4          System is ok but battery back up is le...\n",
       "3    4                               Nice look  Read more\n",
       "4    4                                    Good  Read more"
      ]
     },
     "execution_count": 227,
     "metadata": {},
     "output_type": "execute_result"
    }
   ],
   "source": [
    "amazon_reviews.head()"
   ]
  },
  {
   "cell_type": "markdown",
   "id": "30b702e6",
   "metadata": {},
   "source": [
    "### for flipkart, clean whitespaces and slice unnecessary columns"
   ]
  },
  {
   "cell_type": "code",
   "execution_count": 228,
   "id": "dae04d56",
   "metadata": {},
   "outputs": [
    {
     "data": {
      "text/html": [
       "<div>\n",
       "<style scoped>\n",
       "    .dataframe tbody tr th:only-of-type {\n",
       "        vertical-align: middle;\n",
       "    }\n",
       "\n",
       "    .dataframe tbody tr th {\n",
       "        vertical-align: top;\n",
       "    }\n",
       "\n",
       "    .dataframe thead th {\n",
       "        text-align: right;\n",
       "    }\n",
       "</style>\n",
       "<table border=\"1\" class=\"dataframe\">\n",
       "  <thead>\n",
       "    <tr style=\"text-align: right;\">\n",
       "      <th></th>\n",
       "      <th>Unnamed: 0</th>\n",
       "      <th>star</th>\n",
       "      <th>reviews</th>\n",
       "    </tr>\n",
       "  </thead>\n",
       "  <tbody>\n",
       "    <tr>\n",
       "      <th>0</th>\n",
       "      <td>0</td>\n",
       "      <td>5</td>\n",
       "      <td>Hp laptop is the Best one 👍💞😍\\nI am so Happy f...</td>\n",
       "    </tr>\n",
       "    <tr>\n",
       "      <th>1</th>\n",
       "      <td>1</td>\n",
       "      <td>5</td>\n",
       "      <td>Just awesome laptop... Everything is just perf...</td>\n",
       "    </tr>\n",
       "    <tr>\n",
       "      <th>2</th>\n",
       "      <td>2</td>\n",
       "      <td>5</td>\n",
       "      <td>Great laptop\\nmust buy\\nPerfect for multimedia...</td>\n",
       "    </tr>\n",
       "    <tr>\n",
       "      <th>3</th>\n",
       "      <td>3</td>\n",
       "      <td>4</td>\n",
       "      <td>Design looks very good\\nPerformance is ok it's...</td>\n",
       "    </tr>\n",
       "    <tr>\n",
       "      <th>4</th>\n",
       "      <td>4</td>\n",
       "      <td>5</td>\n",
       "      <td>Excellent performance. I got it within 34 k on...</td>\n",
       "    </tr>\n",
       "  </tbody>\n",
       "</table>\n",
       "</div>"
      ],
      "text/plain": [
       "   Unnamed: 0  star                                            reviews\n",
       "0           0     5  Hp laptop is the Best one 👍💞😍\\nI am so Happy f...\n",
       "1           1     5  Just awesome laptop... Everything is just perf...\n",
       "2           2     5  Great laptop\\nmust buy\\nPerfect for multimedia...\n",
       "3           3     4  Design looks very good\\nPerformance is ok it's...\n",
       "4           4     5  Excellent performance. I got it within 34 k on..."
      ]
     },
     "execution_count": 228,
     "metadata": {},
     "output_type": "execute_result"
    }
   ],
   "source": [
    "flipkartReviews.head()"
   ]
  },
  {
   "cell_type": "code",
   "execution_count": 229,
   "id": "b1dde09c",
   "metadata": {},
   "outputs": [],
   "source": [
    "#cleaning whitespace and slicing columns\n",
    "flipkartReviews = flipkartReviews.replace('\\n',' ', regex=True)\n",
    "flipkartReviews.drop('Unnamed: 0',axis=1,inplace=True)"
   ]
  },
  {
   "cell_type": "code",
   "execution_count": 230,
   "id": "37aa2f7a",
   "metadata": {},
   "outputs": [
    {
     "data": {
      "text/html": [
       "<div>\n",
       "<style scoped>\n",
       "    .dataframe tbody tr th:only-of-type {\n",
       "        vertical-align: middle;\n",
       "    }\n",
       "\n",
       "    .dataframe tbody tr th {\n",
       "        vertical-align: top;\n",
       "    }\n",
       "\n",
       "    .dataframe thead th {\n",
       "        text-align: right;\n",
       "    }\n",
       "</style>\n",
       "<table border=\"1\" class=\"dataframe\">\n",
       "  <thead>\n",
       "    <tr style=\"text-align: right;\">\n",
       "      <th></th>\n",
       "      <th>star</th>\n",
       "      <th>reviews</th>\n",
       "    </tr>\n",
       "  </thead>\n",
       "  <tbody>\n",
       "    <tr>\n",
       "      <th>0</th>\n",
       "      <td>5</td>\n",
       "      <td>Hp laptop is the Best one 👍💞😍 I am so Happy fo...</td>\n",
       "    </tr>\n",
       "    <tr>\n",
       "      <th>1</th>\n",
       "      <td>5</td>\n",
       "      <td>Just awesome laptop... Everything is just perf...</td>\n",
       "    </tr>\n",
       "    <tr>\n",
       "      <th>2</th>\n",
       "      <td>5</td>\n",
       "      <td>Great laptop must buy Perfect for multimedia a...</td>\n",
       "    </tr>\n",
       "    <tr>\n",
       "      <th>3</th>\n",
       "      <td>4</td>\n",
       "      <td>Design looks very good Performance is ok it's ...</td>\n",
       "    </tr>\n",
       "    <tr>\n",
       "      <th>4</th>\n",
       "      <td>5</td>\n",
       "      <td>Excellent performance. I got it within 34 k on...</td>\n",
       "    </tr>\n",
       "  </tbody>\n",
       "</table>\n",
       "</div>"
      ],
      "text/plain": [
       "   star                                            reviews\n",
       "0     5  Hp laptop is the Best one 👍💞😍 I am so Happy fo...\n",
       "1     5  Just awesome laptop... Everything is just perf...\n",
       "2     5  Great laptop must buy Perfect for multimedia a...\n",
       "3     4  Design looks very good Performance is ok it's ...\n",
       "4     5  Excellent performance. I got it within 34 k on..."
      ]
     },
     "execution_count": 230,
     "metadata": {},
     "output_type": "execute_result"
    }
   ],
   "source": [
    "flipkartReviews.head()"
   ]
  },
  {
   "cell_type": "markdown",
   "id": "e10f6744",
   "metadata": {},
   "source": [
    "### join both amazon and flipkart dataFrames to create a single dataFrame"
   ]
  },
  {
   "cell_type": "code",
   "execution_count": 231,
   "id": "8bf55afb",
   "metadata": {},
   "outputs": [],
   "source": [
    "ds_train=pd.concat([amazon_reviews,flipkartReviews])"
   ]
  },
  {
   "cell_type": "code",
   "execution_count": 242,
   "id": "fe348a21",
   "metadata": {},
   "outputs": [
    {
     "name": "stdout",
     "output_type": "stream",
     "text": [
      "Stored 'ds_train' (DataFrame)\n"
     ]
    }
   ],
   "source": [
    "%store ds_train"
   ]
  },
  {
   "cell_type": "code",
   "execution_count": 233,
   "id": "e6aa7efb",
   "metadata": {},
   "outputs": [
    {
     "data": {
      "text/html": [
       "<div>\n",
       "<style scoped>\n",
       "    .dataframe tbody tr th:only-of-type {\n",
       "        vertical-align: middle;\n",
       "    }\n",
       "\n",
       "    .dataframe tbody tr th {\n",
       "        vertical-align: top;\n",
       "    }\n",
       "\n",
       "    .dataframe thead th {\n",
       "        text-align: right;\n",
       "    }\n",
       "</style>\n",
       "<table border=\"1\" class=\"dataframe\">\n",
       "  <thead>\n",
       "    <tr style=\"text-align: right;\">\n",
       "      <th></th>\n",
       "      <th>star</th>\n",
       "      <th>reviews</th>\n",
       "    </tr>\n",
       "  </thead>\n",
       "  <tbody>\n",
       "    <tr>\n",
       "      <th>0</th>\n",
       "      <td>4</td>\n",
       "      <td>Good performance in this range.  Read ...</td>\n",
       "    </tr>\n",
       "    <tr>\n",
       "      <th>1</th>\n",
       "      <td>4</td>\n",
       "      <td>Nice  Read more</td>\n",
       "    </tr>\n",
       "    <tr>\n",
       "      <th>2</th>\n",
       "      <td>4</td>\n",
       "      <td>System is ok but battery back up is le...</td>\n",
       "    </tr>\n",
       "    <tr>\n",
       "      <th>3</th>\n",
       "      <td>4</td>\n",
       "      <td>Nice look  Read more</td>\n",
       "    </tr>\n",
       "    <tr>\n",
       "      <th>4</th>\n",
       "      <td>4</td>\n",
       "      <td>Good  Read more</td>\n",
       "    </tr>\n",
       "  </tbody>\n",
       "</table>\n",
       "</div>"
      ],
      "text/plain": [
       "  star                                            reviews\n",
       "0    4          Good performance in this range.  Read ...\n",
       "1    4                                    Nice  Read more\n",
       "2    4          System is ok but battery back up is le...\n",
       "3    4                               Nice look  Read more\n",
       "4    4                                    Good  Read more"
      ]
     },
     "execution_count": 233,
     "metadata": {},
     "output_type": "execute_result"
    }
   ],
   "source": [
    "ds_train.head()"
   ]
  },
  {
   "cell_type": "markdown",
   "id": "14a4e7f8",
   "metadata": {},
   "source": [
    "### convert star series from object to int"
   ]
  },
  {
   "cell_type": "code",
   "execution_count": 234,
   "id": "df83095f",
   "metadata": {},
   "outputs": [
    {
     "data": {
      "text/plain": [
       "star       object\n",
       "reviews    object\n",
       "dtype: object"
      ]
     },
     "execution_count": 234,
     "metadata": {},
     "output_type": "execute_result"
    }
   ],
   "source": [
    "ds_train.dtypes"
   ]
  },
  {
   "cell_type": "code",
   "execution_count": 235,
   "id": "fc54c000",
   "metadata": {},
   "outputs": [],
   "source": [
    "ds_train['star']=(ds_train['star']).astype(int)"
   ]
  },
  {
   "cell_type": "code",
   "execution_count": 236,
   "id": "721e436a",
   "metadata": {},
   "outputs": [
    {
     "data": {
      "text/plain": [
       "star        int32\n",
       "reviews    object\n",
       "dtype: object"
      ]
     },
     "execution_count": 236,
     "metadata": {},
     "output_type": "execute_result"
    }
   ],
   "source": [
    "ds_train.dtypes"
   ]
  },
  {
   "cell_type": "code",
   "execution_count": 237,
   "id": "b3f24646",
   "metadata": {},
   "outputs": [
    {
     "data": {
      "text/plain": [
       "(4202, 2)"
      ]
     },
     "execution_count": 237,
     "metadata": {},
     "output_type": "execute_result"
    }
   ],
   "source": [
    "ds_train.shape"
   ]
  },
  {
   "cell_type": "markdown",
   "id": "49a0d12a",
   "metadata": {},
   "source": [
    "### clean unnecessary characters from reviews series"
   ]
  },
  {
   "cell_type": "code",
   "execution_count": 238,
   "id": "9be55dcf",
   "metadata": {},
   "outputs": [],
   "source": [
    "#function written to clean data of punctuation marks and unnecessary characters.\n",
    "#stopwords cleaning cannot be done as most of the bad reviews contain words like not, dont, etc. If they get cleared then it will affect the model.\n",
    "\n",
    "def cleaning(data):\n",
    "    #change comments to lower case\n",
    "    data['reviews']=data['reviews'].str.lower()\n",
    "    #remove punctuation in string using regex\n",
    "    data['reviews']=data['reviews'].str.replace(r'[^\\w\\d\\s]',' ')\n",
    "    #replace whitespace\n",
    "    data['reviews']=data['reviews'].str.replace(r'\\s+',' ')\n",
    "    #remove leading and trailing whitespace\n",
    "    data['reviews']=data['reviews'].str.replace(r'^\\s+|\\s+?$',' ')"
   ]
  },
  {
   "cell_type": "code",
   "execution_count": 239,
   "id": "12f2ea87",
   "metadata": {},
   "outputs": [],
   "source": [
    "cleaning(ds_train)"
   ]
  },
  {
   "cell_type": "code",
   "execution_count": 240,
   "id": "a0fded14",
   "metadata": {},
   "outputs": [
    {
     "data": {
      "text/html": [
       "<div>\n",
       "<style scoped>\n",
       "    .dataframe tbody tr th:only-of-type {\n",
       "        vertical-align: middle;\n",
       "    }\n",
       "\n",
       "    .dataframe tbody tr th {\n",
       "        vertical-align: top;\n",
       "    }\n",
       "\n",
       "    .dataframe thead th {\n",
       "        text-align: right;\n",
       "    }\n",
       "</style>\n",
       "<table border=\"1\" class=\"dataframe\">\n",
       "  <thead>\n",
       "    <tr style=\"text-align: right;\">\n",
       "      <th></th>\n",
       "      <th>star</th>\n",
       "      <th>reviews</th>\n",
       "    </tr>\n",
       "  </thead>\n",
       "  <tbody>\n",
       "    <tr>\n",
       "      <th>0</th>\n",
       "      <td>4</td>\n",
       "      <td>good performance in this range read more</td>\n",
       "    </tr>\n",
       "    <tr>\n",
       "      <th>1</th>\n",
       "      <td>4</td>\n",
       "      <td>nice read more</td>\n",
       "    </tr>\n",
       "    <tr>\n",
       "      <th>2</th>\n",
       "      <td>4</td>\n",
       "      <td>system is ok but battery back up is less than...</td>\n",
       "    </tr>\n",
       "    <tr>\n",
       "      <th>3</th>\n",
       "      <td>4</td>\n",
       "      <td>nice look read more</td>\n",
       "    </tr>\n",
       "    <tr>\n",
       "      <th>4</th>\n",
       "      <td>4</td>\n",
       "      <td>good read more</td>\n",
       "    </tr>\n",
       "    <tr>\n",
       "      <th>...</th>\n",
       "      <td>...</td>\n",
       "      <td>...</td>\n",
       "    </tr>\n",
       "    <tr>\n",
       "      <th>1381</th>\n",
       "      <td>4</td>\n",
       "      <td>worth</td>\n",
       "    </tr>\n",
       "    <tr>\n",
       "      <th>1382</th>\n",
       "      <td>4</td>\n",
       "      <td>good</td>\n",
       "    </tr>\n",
       "    <tr>\n",
       "      <th>1383</th>\n",
       "      <td>4</td>\n",
       "      <td>nice laptop</td>\n",
       "    </tr>\n",
       "    <tr>\n",
       "      <th>1384</th>\n",
       "      <td>5</td>\n",
       "      <td>glad to shop must buy</td>\n",
       "    </tr>\n",
       "    <tr>\n",
       "      <th>1385</th>\n",
       "      <td>5</td>\n",
       "      <td>nice</td>\n",
       "    </tr>\n",
       "  </tbody>\n",
       "</table>\n",
       "<p>4202 rows × 2 columns</p>\n",
       "</div>"
      ],
      "text/plain": [
       "      star                                            reviews\n",
       "0        4           good performance in this range read more\n",
       "1        4                                     nice read more\n",
       "2        4   system is ok but battery back up is less than...\n",
       "3        4                                nice look read more\n",
       "4        4                                     good read more\n",
       "...    ...                                                ...\n",
       "1381     4                                              worth\n",
       "1382     4                                               good\n",
       "1383     4                                        nice laptop\n",
       "1384     5                              glad to shop must buy\n",
       "1385     5                                               nice\n",
       "\n",
       "[4202 rows x 2 columns]"
      ]
     },
     "execution_count": 240,
     "metadata": {},
     "output_type": "execute_result"
    }
   ],
   "source": [
    "ds_train"
   ]
  },
  {
   "cell_type": "code",
   "execution_count": 241,
   "id": "67279137",
   "metadata": {},
   "outputs": [],
   "source": [
    "ds_train.reset_index(drop=True, inplace=True)"
   ]
  },
  {
   "cell_type": "markdown",
   "id": "7b7f0e52",
   "metadata": {},
   "source": [
    "### create vectors from words"
   ]
  },
  {
   "cell_type": "code",
   "execution_count": 175,
   "id": "40821ae1",
   "metadata": {},
   "outputs": [],
   "source": [
    "tf_vec=TfidfVectorizer()"
   ]
  },
  {
   "cell_type": "code",
   "execution_count": 176,
   "id": "c7d0cfdf",
   "metadata": {},
   "outputs": [],
   "source": [
    "features=tf_vec.fit_transform(ds_train['reviews'])"
   ]
  },
  {
   "cell_type": "code",
   "execution_count": 177,
   "id": "5617ff08",
   "metadata": {},
   "outputs": [
    {
     "data": {
      "text/plain": [
       "(4202, 4444)"
      ]
     },
     "execution_count": 177,
     "metadata": {},
     "output_type": "execute_result"
    }
   ],
   "source": [
    "features.shape"
   ]
  },
  {
   "cell_type": "markdown",
   "id": "a04435cd",
   "metadata": {},
   "source": [
    "## Split data into train set and test set"
   ]
  },
  {
   "cell_type": "code",
   "execution_count": 178,
   "id": "1c6f4e29",
   "metadata": {},
   "outputs": [],
   "source": [
    "x=features\n",
    "y=ds_train['star']"
   ]
  },
  {
   "cell_type": "code",
   "execution_count": 179,
   "id": "aaae33bf",
   "metadata": {},
   "outputs": [],
   "source": [
    "x_train,x_test,y_train,y_test=train_test_split(x,y,random_state=42)"
   ]
  },
  {
   "cell_type": "markdown",
   "id": "4b357a26",
   "metadata": {},
   "source": [
    "## Create model and Evaluate"
   ]
  },
  {
   "cell_type": "markdown",
   "id": "1934af7b",
   "metadata": {},
   "source": [
    "### Decision Tree Classifier"
   ]
  },
  {
   "cell_type": "code",
   "execution_count": 180,
   "id": "756dbbab",
   "metadata": {},
   "outputs": [
    {
     "name": "stdout",
     "output_type": "stream",
     "text": [
      "0.8886774500475737\n"
     ]
    }
   ],
   "source": [
    "dtc=DecisionTreeClassifier()\n",
    "dtc.fit(x_train,y_train)\n",
    "y_pred_dtc=dtc.predict(x_test)\n",
    "print(accuracy_score(y_test,y_pred_dtc))"
   ]
  },
  {
   "cell_type": "code",
   "execution_count": 181,
   "id": "926af00d",
   "metadata": {},
   "outputs": [
    {
     "name": "stdout",
     "output_type": "stream",
     "text": [
      "              precision    recall  f1-score   support\n",
      "\n",
      "           1       0.72      0.78      0.75        27\n",
      "           2       0.67      0.36      0.47        11\n",
      "           3       0.95      0.91      0.93        81\n",
      "           4       0.91      0.92      0.91       573\n",
      "           5       0.86      0.86      0.86       359\n",
      "\n",
      "    accuracy                           0.89      1051\n",
      "   macro avg       0.82      0.77      0.79      1051\n",
      "weighted avg       0.89      0.89      0.89      1051\n",
      "\n"
     ]
    }
   ],
   "source": [
    "print(classification_report(y_test,y_pred_dtc))"
   ]
  },
  {
   "cell_type": "code",
   "execution_count": 182,
   "id": "1e8617d0",
   "metadata": {
    "scrolled": true
   },
   "outputs": [
    {
     "name": "stdout",
     "output_type": "stream",
     "text": [
      "[[ 21   0   3   1   2]\n",
      " [  3   4   0   3   1]\n",
      " [  2   1  74   2   2]\n",
      " [  2   0   1 526  44]\n",
      " [  1   1   0  48 309]]\n"
     ]
    }
   ],
   "source": [
    "print(confusion_matrix(y_test,y_pred_dtc))"
   ]
  },
  {
   "cell_type": "code",
   "execution_count": 183,
   "id": "1b962118",
   "metadata": {},
   "outputs": [
    {
     "data": {
      "text/plain": [
       "Text(0.5, 0.98, 'Comparision of DTC results')"
      ]
     },
     "execution_count": 183,
     "metadata": {},
     "output_type": "execute_result"
    },
    {
     "data": {
      "image/png": "[encoded data removed]",
      "text/plain": [
       "<Figure size 640x480 with 2 Axes>"
      ]
     },
     "metadata": {},
     "output_type": "display_data"
    }
   ],
   "source": [
    "plt.subplot(1, 2, 1)\n",
    "sns.countplot(y_pred_dtc)\n",
    "plt.title('predicted')\n",
    "plt.subplot(1, 2, 2)\n",
    "sns.countplot(y_test)\n",
    "plt.title('actual')\n",
    "plt.suptitle('Comparision of DTC results')"
   ]
  },
  {
   "cell_type": "markdown",
   "id": "765a92b6",
   "metadata": {},
   "source": [
    "### Random Forest Classifier"
   ]
  },
  {
   "cell_type": "code",
   "execution_count": 184,
   "id": "8ca0dcf9",
   "metadata": {},
   "outputs": [
    {
     "name": "stdout",
     "output_type": "stream",
     "text": [
      "0.9067554709800191\n"
     ]
    }
   ],
   "source": [
    "rfc=RandomForestClassifier()\n",
    "rfc.fit(x_train,y_train)\n",
    "y_pred_rfc=rfc.predict(x_test)\n",
    "print(accuracy_score(y_test,y_pred_rfc))"
   ]
  },
  {
   "cell_type": "code",
   "execution_count": 185,
   "id": "96559c9f",
   "metadata": {},
   "outputs": [
    {
     "name": "stdout",
     "output_type": "stream",
     "text": [
      "              precision    recall  f1-score   support\n",
      "\n",
      "           1       0.94      0.63      0.76        27\n",
      "           2       1.00      0.36      0.53        11\n",
      "           3       1.00      0.91      0.95        81\n",
      "           4       0.98      0.89      0.93       573\n",
      "           5       0.80      0.97      0.88       359\n",
      "\n",
      "    accuracy                           0.91      1051\n",
      "   macro avg       0.95      0.75      0.81      1051\n",
      "weighted avg       0.92      0.91      0.91      1051\n",
      "\n"
     ]
    }
   ],
   "source": [
    "print(classification_report(y_test,y_pred_rfc))"
   ]
  },
  {
   "cell_type": "code",
   "execution_count": 186,
   "id": "ef1766b1",
   "metadata": {},
   "outputs": [
    {
     "name": "stdout",
     "output_type": "stream",
     "text": [
      "[[ 17   0   0   0  10]\n",
      " [  1   4   0   1   5]\n",
      " [  0   0  74   0   7]\n",
      " [  0   0   0 509  64]\n",
      " [  0   0   0  10 349]]\n"
     ]
    }
   ],
   "source": [
    "print(confusion_matrix(y_test,y_pred_rfc))"
   ]
  },
  {
   "cell_type": "code",
   "execution_count": 187,
   "id": "c1b9c668",
   "metadata": {},
   "outputs": [
    {
     "data": {
      "text/plain": [
       "Text(0.5, 0.98, 'Comparision of DTC results')"
      ]
     },
     "execution_count": 187,
     "metadata": {},
     "output_type": "execute_result"
    },
    {
     "data": {
      "image/png": "[encoded data removed]",
      "text/plain": [
       "<Figure size 640x480 with 2 Axes>"
      ]
     },
     "metadata": {},
     "output_type": "display_data"
    }
   ],
   "source": [
    "plt.subplot(1, 2, 1)\n",
    "sns.countplot(y_pred_rfc)\n",
    "plt.title('predicted')\n",
    "plt.subplot(1, 2, 2)\n",
    "sns.countplot(y_test)\n",
    "plt.title('actual')\n",
    "plt.suptitle('Comparision of DTC results')"
   ]
  },
  {
   "cell_type": "markdown",
   "id": "076c3894",
   "metadata": {},
   "source": [
    "### Support Vector Classifier"
   ]
  },
  {
   "cell_type": "code",
   "execution_count": 188,
   "id": "34620afc",
   "metadata": {},
   "outputs": [
    {
     "name": "stdout",
     "output_type": "stream",
     "text": [
      "0.9067554709800191\n"
     ]
    }
   ],
   "source": [
    "svc=svm.SVC()\n",
    "svc.fit(x_train,y_train)\n",
    "y_pred_svc=svc.predict(x_test)\n",
    "print(accuracy_score(y_test,y_pred_svc))"
   ]
  },
  {
   "cell_type": "code",
   "execution_count": 189,
   "id": "58e4c513",
   "metadata": {},
   "outputs": [
    {
     "name": "stdout",
     "output_type": "stream",
     "text": [
      "              precision    recall  f1-score   support\n",
      "\n",
      "           1       0.83      0.56      0.67        27\n",
      "           2       1.00      0.36      0.53        11\n",
      "           3       0.99      0.90      0.94        81\n",
      "           4       0.98      0.90      0.94       573\n",
      "           5       0.81      0.97      0.88       359\n",
      "\n",
      "    accuracy                           0.91      1051\n",
      "   macro avg       0.92      0.74      0.79      1051\n",
      "weighted avg       0.92      0.91      0.91      1051\n",
      "\n"
     ]
    }
   ],
   "source": [
    "print(classification_report(y_test,y_pred_svc))"
   ]
  },
  {
   "cell_type": "code",
   "execution_count": 190,
   "id": "2c9bac9c",
   "metadata": {},
   "outputs": [
    {
     "name": "stdout",
     "output_type": "stream",
     "text": [
      "[[ 15   0   0   0  12]\n",
      " [  2   4   0   0   5]\n",
      " [  1   0  73   1   6]\n",
      " [  0   0   0 513  60]\n",
      " [  0   0   1  10 348]]\n"
     ]
    }
   ],
   "source": [
    "print(confusion_matrix(y_test,y_pred_svc))"
   ]
  },
  {
   "cell_type": "code",
   "execution_count": 191,
   "id": "3c94887b",
   "metadata": {},
   "outputs": [
    {
     "data": {
      "text/plain": [
       "Text(0.5, 0.98, 'Comparision of SVC results')"
      ]
     },
     "execution_count": 191,
     "metadata": {},
     "output_type": "execute_result"
    },
    {
     "data": {
      "image/png": "[encoded data removed]",
      "text/plain": [
       "<Figure size 640x480 with 2 Axes>"
      ]
     },
     "metadata": {},
     "output_type": "display_data"
    }
   ],
   "source": [
    "plt.subplot(1, 2, 1)\n",
    "sns.countplot(y_pred_svc)\n",
    "plt.title('predicted')\n",
    "plt.subplot(1, 2, 2)\n",
    "sns.countplot(y_test)\n",
    "plt.title('actual')\n",
    "\n",
    "plt.suptitle('Comparision of SVC results')"
   ]
  },
  {
   "cell_type": "markdown",
   "id": "60c0c67e",
   "metadata": {},
   "source": [
    "## Observations from the scores of above models"
   ]
  },
  {
   "cell_type": "markdown",
   "id": "3fd59d76",
   "metadata": {},
   "source": [
    "1. Random Forest Classifier performs best on the reviews data\n",
    "2. Random Forest Classifier and Support Vector Classifier have better abilities to predict less abundant values.\n",
    "3. Considering higher accuracy and minor differences in prediction capabilities Random Forest Classifier can be finalized.\n",
    "4. Hyper parameter tuning does not result into good results considering text data."
   ]
  }
 ],
 "metadata": {
  "kernelspec": {
   "display_name": "Python 3 (ipykernel)",
   "language": "python",
   "name": "python3"
  },
  "language_info": {
   "codemirror_mode": {
    "name": "ipython",
    "version": 3
   },
   "file_extension": ".py",
   "mimetype": "text/x-python",
   "name": "python",
   "nbconvert_exporter": "python",
   "pygments_lexer": "ipython3",
   "version": "3.9.13"
  }
 },
 "nbformat": 4,
 "nbformat_minor": 5
}
